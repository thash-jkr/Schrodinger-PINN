{
 "cells": [
  {
   "cell_type": "code",
   "execution_count": null,
   "metadata": {
    "execution": {
     "iopub.execute_input": "2025-03-22T06:13:34.355285Z",
     "iopub.status.busy": "2025-03-22T06:13:34.354858Z",
     "iopub.status.idle": "2025-03-22T06:13:36.275868Z",
     "shell.execute_reply": "2025-03-22T06:13:36.275105Z",
     "shell.execute_reply.started": "2025-03-22T06:13:34.355254Z"
    },
    "trusted": true
   },
   "outputs": [],
   "source": [
    "import numpy as np\n",
    "import cupy as cp\n",
    "import cupyx.scipy.sparse as sp\n",
    "import cupyx.scipy.sparse.linalg as spla\n",
    "import matplotlib.pyplot as plt\n",
    "import matplotlib.animation as animation"
   ]
  },
  {
   "cell_type": "code",
   "execution_count": null,
   "metadata": {
    "execution": {
     "iopub.execute_input": "2025-03-22T06:13:36.277062Z",
     "iopub.status.busy": "2025-03-22T06:13:36.276640Z",
     "iopub.status.idle": "2025-03-22T06:13:36.292670Z",
     "shell.execute_reply": "2025-03-22T06:13:36.291838Z",
     "shell.execute_reply.started": "2025-03-22T06:13:36.277012Z"
    },
    "trusted": true
   },
   "outputs": [],
   "source": [
    "from scipy.constants import pi, speed_of_light, elementary_charge, electron_mass, hbar\n",
    "\n",
    "me_SI = electron_mass\n",
    "hbar_SI = hbar\n",
    "e_SI = elementary_charge\n",
    "c_SI = speed_of_light\n",
    "\n",
    "meV = e_SI * 1e-3\n",
    "nm = 1e-9\n",
    "ps = 1e-12\n",
    "\n",
    "c = c_SI * ps / nm           \n",
    "hbar_meV_ps = hbar_SI / (meV * ps)  \n",
    "me = me_SI * c_SI**2 / meV / c**2    \n",
    "\n",
    "hbar = hbar_meV_ps\n",
    "m = me\n",
    "omega = 2 / hbar\n",
    "vQD = 15\n",
    "\n",
    "x_min = -75\n",
    "x_max = 150\n",
    "t_min = 0\n",
    "t_max = 20\n",
    "\n",
    "x0 = 0\n",
    "x1 = 75\n",
    "t0 = 0\n",
    "t1 = 2"
   ]
  },
  {
   "cell_type": "code",
   "execution_count": null,
   "metadata": {
    "execution": {
     "iopub.execute_input": "2025-03-22T06:13:36.293662Z",
     "iopub.status.busy": "2025-03-22T06:13:36.293434Z",
     "iopub.status.idle": "2025-03-22T06:13:37.390201Z",
     "shell.execute_reply": "2025-03-22T06:13:37.389374Z",
     "shell.execute_reply.started": "2025-03-22T06:13:36.293642Z"
    },
    "trusted": true
   },
   "outputs": [],
   "source": [
    "Nx = 5000\n",
    "Nt = 5000\n",
    "\n",
    "x_values = cp.linspace(x_min, x_max, Nx)\n",
    "t_values = cp.linspace(t_min, t_max, Nt)\n",
    "\n",
    "dx = x_values[1] - x_values[0]\n",
    "dt = t_values[1] - t_values[0]"
   ]
  },
  {
   "cell_type": "code",
   "execution_count": null,
   "metadata": {
    "execution": {
     "iopub.execute_input": "2025-03-22T06:13:37.392621Z",
     "iopub.status.busy": "2025-03-22T06:13:37.392327Z",
     "iopub.status.idle": "2025-03-22T06:13:38.531764Z",
     "shell.execute_reply": "2025-03-22T06:13:38.530887Z",
     "shell.execute_reply.started": "2025-03-22T06:13:37.392599Z"
    },
    "trusted": true
   },
   "outputs": [],
   "source": [
    "laplacian = (cp.eye(Nx, k=-1) - 2 * cp.eye(Nx) + cp.eye(Nx, k=1)) / dx ** 2\n",
    "H_kinetic = - (hbar ** 2 / (2 * m)) * laplacian"
   ]
  },
  {
   "cell_type": "code",
   "execution_count": null,
   "metadata": {
    "execution": {
     "iopub.execute_input": "2025-03-22T06:13:38.533377Z",
     "iopub.status.busy": "2025-03-22T06:13:38.533119Z",
     "iopub.status.idle": "2025-03-22T06:13:38.949419Z",
     "shell.execute_reply": "2025-03-22T06:13:38.948435Z",
     "shell.execute_reply.started": "2025-03-22T06:13:38.533355Z"
    },
    "trusted": true
   },
   "outputs": [],
   "source": [
    "A = (m * omega / (cp.pi * hbar)) ** 0.25\n",
    "alpha = (m * omega) / (2.0 * hbar)\n",
    "\n",
    "psi = A * cp.exp(-alpha * (x_values ** 2))\n",
    "# psi /= np.sqrt(np.sum(psi ** 2) * dx)"
   ]
  },
  {
   "cell_type": "code",
   "execution_count": null,
   "metadata": {
    "execution": {
     "iopub.execute_input": "2025-03-22T06:13:38.950577Z",
     "iopub.status.busy": "2025-03-22T06:13:38.950301Z",
     "iopub.status.idle": "2025-03-22T06:13:38.955653Z",
     "shell.execute_reply": "2025-03-22T06:13:38.954992Z",
     "shell.execute_reply.started": "2025-03-22T06:13:38.950546Z"
    },
    "trusted": true
   },
   "outputs": [],
   "source": [
    "def quantum_center(t_values):\n",
    "    xqd_arr = cp.zeros_like(t_values)\n",
    "    \n",
    "    for i, t in enumerate(t_values):\n",
    "        if t < t1:\n",
    "            xqd_arr[i] = x0\n",
    "        elif t < t1 + (x1 - x0) / vQD:\n",
    "            xqd_arr[i] = x0 + vQD * (t - t1)\n",
    "        else:\n",
    "            xqd_arr[i] = x1\n",
    "\n",
    "    return xqd_arr"
   ]
  },
  {
   "cell_type": "code",
   "execution_count": null,
   "metadata": {
    "execution": {
     "iopub.execute_input": "2025-03-22T06:13:38.956769Z",
     "iopub.status.busy": "2025-03-22T06:13:38.956449Z",
     "iopub.status.idle": "2025-03-22T06:48:54.847800Z",
     "shell.execute_reply": "2025-03-22T06:48:54.846867Z",
     "shell.execute_reply.started": "2025-03-22T06:13:38.956739Z"
    },
    "trusted": true
   },
   "outputs": [],
   "source": [
    "psi_real_analytical = cp.zeros((Nx, Nt), dtype=cp.float64)\n",
    "psi_img_analytical = cp.zeros((Nx, Nt), dtype=cp.float64)\n",
    "\n",
    "psi_real_analytical[:, 0] = cp.real(psi)\n",
    "psi_img_analytical[:, 0] = cp.imag(psi)\n",
    "\n",
    "I = cp.eye(Nx)\n",
    "xqd_arr = quantum_center(t_values)\n",
    "\n",
    "for t_i in range(1, Nt):\n",
    "    if t_i % 100 == 0:\n",
    "        print(f\"Step {t_i} / {Nt}\")\n",
    "    V = 0.5 * m * omega ** 2 * (x_values - xqd_arr[t_i]) ** 2\n",
    "    H = H_kinetic + cp.diag(V)\n",
    "    A = I + 1j * dt / (2 * hbar) * H\n",
    "    B = I - 1j * dt / (2 * hbar) * H\n",
    "    psi = spla.spsolve(sp.csc_matrix(A), B @ psi)\n",
    "    # psi /= np.sqrt(np.sum(psi ** 2) * dx)\n",
    "    psi_real_analytical[:, t_i] = cp.real(psi)\n",
    "    psi_img_analytical[:, t_i] = cp.imag(psi)"
   ]
  },
  {
   "cell_type": "code",
   "execution_count": null,
   "metadata": {
    "execution": {
     "iopub.execute_input": "2025-03-22T06:48:54.848913Z",
     "iopub.status.busy": "2025-03-22T06:48:54.848674Z",
     "iopub.status.idle": "2025-03-22T06:48:55.438386Z",
     "shell.execute_reply": "2025-03-22T06:48:55.437741Z",
     "shell.execute_reply.started": "2025-03-22T06:48:54.848883Z"
    },
    "trusted": true
   },
   "outputs": [],
   "source": [
    "psi_real_analytical = cp.asnumpy(psi_real_analytical)\n",
    "psi_img_analytical = cp.asnumpy(psi_img_analytical)\n",
    "x_values = cp.asnumpy(x_values)\n",
    "t_values = cp.asnumpy(t_values)"
   ]
  },
  {
   "cell_type": "code",
   "execution_count": null,
   "metadata": {
    "execution": {
     "iopub.execute_input": "2025-03-22T06:48:55.439428Z",
     "iopub.status.busy": "2025-03-22T06:48:55.439131Z",
     "iopub.status.idle": "2025-03-22T06:49:57.211342Z",
     "shell.execute_reply": "2025-03-22T06:49:57.210609Z",
     "shell.execute_reply.started": "2025-03-22T06:48:55.439398Z"
    },
    "trusted": true
   },
   "outputs": [],
   "source": [
    "plt.figure(figsize=(8, 6))\n",
    "psi_sq = psi_real_analytical ** 2 + psi_img_analytical ** 2\n",
    "\n",
    "plt.pcolormesh(x_values, t_values, psi_sq.transpose(), shading=\"auto\")\n",
    "plt.colorbar(label='|psi(x,t)|^2')\n",
    "plt.xlabel('x')\n",
    "plt.ylabel('t')\n",
    "plt.title('Analytical |psi|^2')\n",
    "plt.show()"
   ]
  },
  {
   "cell_type": "code",
   "execution_count": null,
   "metadata": {
    "execution": {
     "iopub.execute_input": "2025-03-22T06:49:57.212591Z",
     "iopub.status.busy": "2025-03-22T06:49:57.212277Z",
     "iopub.status.idle": "2025-03-22T06:50:00.825934Z",
     "shell.execute_reply": "2025-03-22T06:50:00.825142Z",
     "shell.execute_reply.started": "2025-03-22T06:49:57.212549Z"
    },
    "trusted": true
   },
   "outputs": [],
   "source": [
    "from scipy.integrate import simpson\n",
    "from matplotlib.ticker import FormatStrFormatter\n",
    "\n",
    "norms = []\n",
    "\n",
    "for i in range(10000):\n",
    "  psi_sq = psi_real_analytical[:, i] ** 2 + psi_img_analytical[:, i] ** 2\n",
    "  normalization = simpson(psi_sq, x=x_values)\n",
    "  norms.append(normalization)\n",
    "\n",
    "plt.figure(figsize=(8,5))\n",
    "plt.plot(t_values, norms, '-', label='Normalization')\n",
    "plt.axhline(1.0, color='red', linestyle='--', label='Expected = 1')\n",
    "plt.xlabel('Time (ps)')\n",
    "plt.ylabel('Normalization')\n",
    "plt.title('Wavefunction Normalization Over Time')\n",
    "plt.legend()\n",
    "plt.grid(True)\n",
    "plt.gca().yaxis.set_major_formatter(FormatStrFormatter('%.10f'))\n",
    "\n",
    "plt.show()"
   ]
  },
  {
   "cell_type": "code",
   "execution_count": null,
   "metadata": {
    "trusted": true
   },
   "outputs": [],
   "source": []
  }
 ],
 "metadata": {
  "kaggle": {
   "accelerator": "gpu",
   "dataSources": [],
   "dockerImageVersionId": 30919,
   "isGpuEnabled": true,
   "isInternetEnabled": true,
   "language": "python",
   "sourceType": "notebook"
  },
  "kernelspec": {
   "display_name": ".intern",
   "language": "python",
   "name": "python3"
  },
  "language_info": {
   "codemirror_mode": {
    "name": "ipython",
    "version": 3
   },
   "file_extension": ".py",
   "mimetype": "text/x-python",
   "name": "python",
   "nbconvert_exporter": "python",
   "pygments_lexer": "ipython3",
   "version": "3.12.8"
  }
 },
 "nbformat": 4,
 "nbformat_minor": 4
}
