{
 "cells": [
  {
   "cell_type": "code",
   "execution_count": null,
   "id": "9559ace8",
   "metadata": {},
   "outputs": [],
   "source": [
    "import numpy as np\n",
    "import scipy.sparse as sp\n",
    "import scipy.sparse.linalg as spla\n",
    "from scipy.constants import speed_of_light, elementary_charge, electron_mass, hbar as hbar_SI\n",
    "import matplotlib.pyplot as plt"
   ]
  },
  {
   "cell_type": "code",
   "execution_count": null,
   "id": "63f2d438",
   "metadata": {},
   "outputs": [],
   "source": [
    "me_SI = electron_mass\n",
    "e_SI = elementary_charge\n",
    "c_SI = speed_of_light\n",
    "\n",
    "meV = e_SI * 1e-3\n",
    "nm = 1e-9\n",
    "ps = 1e-12\n",
    "\n",
    "c = c_SI * ps / nm\n",
    "hbar = hbar_SI / (meV * ps)\n",
    "m = me_SI * c_SI ** 2 / meV / c ** 2"
   ]
  },
  {
   "cell_type": "code",
   "execution_count": null,
   "id": "1f53c349",
   "metadata": {},
   "outputs": [],
   "source": [
    "omega = 2 / hbar\n",
    "vQD = 1500000"
   ]
  },
  {
   "cell_type": "code",
   "execution_count": null,
   "id": "d7b6af40",
   "metadata": {},
   "outputs": [],
   "source": [
    "x_min, x_max = -50, 150\n",
    "x0 = 0\n",
    "x1 = 75\n",
    "\n",
    "t1 = 2\n",
    "t2 = t1 + (x1 - x0) / vQD\n",
    "\n",
    "t_min, t_max = t1, t2"
   ]
  },
  {
   "cell_type": "code",
   "execution_count": null,
   "id": "48d3800f",
   "metadata": {},
   "outputs": [],
   "source": [
    "dt = 0.000000001\n",
    "\n",
    "t_values = np.arange(t_min, t_max, dt)\n",
    "Nt = len(t_values)\n",
    "x_values = np.linspace(x_min, x_max, Nt)\n",
    "\n",
    "dx = x_values[1] - x_values[0]\n",
    "\n",
    "laplacian = sp.diags([1, -2, 1], offsets=[-1, 0, 1], shape=(Nt, Nt), format='csc') / dx ** 2\n",
    "H_kinetic = - (hbar ** 2 / (2 * m)) * laplacian"
   ]
  },
  {
   "cell_type": "code",
   "execution_count": null,
   "id": "f03e09f4",
   "metadata": {},
   "outputs": [],
   "source": [
    "skip = Nt // 2000\n",
    "offset = Nt % 2000\n",
    "\n",
    "if (Nt <= 2000):\n",
    "  Ns = Nt\n",
    "  offset = 0\n",
    "  skip = 1\n",
    "else:\n",
    "  Ns = len(x_values[::skip])\n",
    "\n",
    "print(f\"N = {Nt}\\nNs = {Ns}\\nskip = {skip}\\noffset = {offset}\")"
   ]
  },
  {
   "cell_type": "code",
   "execution_count": null,
   "id": "bbd81e7b",
   "metadata": {},
   "outputs": [],
   "source": [
    "def ground_state(x):\n",
    "    A = (m * omega / (np.pi * hbar)) ** 0.25\n",
    "    alpha = (m * omega) / (2.0 * hbar)\n",
    "    return A * np.exp(-alpha * (x ** 2))\n",
    "\n",
    "def first_state(x):\n",
    "    A = 1 / np.sqrt(2)\n",
    "    B = ((m * omega) / (np.pi * hbar)) ** 0.25\n",
    "    C = np.exp((-m * omega * (x ** 2)) / (2 * hbar))\n",
    "    D = 2 * np.sqrt((m * omega) / hbar) * x\n",
    "    \n",
    "    return A * B * C * D"
   ]
  },
  {
   "cell_type": "code",
   "execution_count": null,
   "id": "c79250eb",
   "metadata": {},
   "outputs": [],
   "source": [
    "psi = ground_state(x_values)\n",
    "norm = np.sqrt(np.sum(np.abs(psi)**2) * dx)\n",
    "psi /= norm"
   ]
  },
  {
   "cell_type": "code",
   "execution_count": null,
   "id": "a1ac77e6",
   "metadata": {},
   "outputs": [],
   "source": [
    "psi_real_analytical = np.zeros((Ns, Ns))\n",
    "psi_img_analytical = np.zeros((Ns, Ns))\n",
    "psi_real_analytical[:, 0] = np.real(psi[::skip])\n",
    "psi_img_analytical[:, 0] = np.imag(psi[::skip])"
   ]
  },
  {
   "cell_type": "code",
   "execution_count": null,
   "id": "1549adb1",
   "metadata": {},
   "outputs": [],
   "source": [
    "def quantum_center(t_values):\n",
    "    xqd_arr = np.zeros_like(t_values)\n",
    "    \n",
    "    for i, t in enumerate(t_values):\n",
    "        if t < t1:\n",
    "            xqd_arr[i] = x0\n",
    "        elif t < t2:\n",
    "            xqd_arr[i] = x0 + vQD * (t - t1)\n",
    "        else:\n",
    "            xqd_arr[i] = x1\n",
    "    return xqd_arr"
   ]
  },
  {
   "cell_type": "code",
   "execution_count": null,
   "id": "f79a0cf9",
   "metadata": {},
   "outputs": [],
   "source": [
    "I = sp.eye(Nt, format='csc')\n",
    "xqd_arr = quantum_center(t_values)"
   ]
  },
  {
   "cell_type": "code",
   "execution_count": null,
   "id": "77828514",
   "metadata": {},
   "outputs": [],
   "source": [
    "for t_i in range(1, Nt):\n",
    "\tif t_i % 100 == 0:\n",
    "\t\tprint(f\"Step {t_i} / {Nt}\")\t\n",
    "\n",
    "\tV = 0.5 * m * omega ** 2 * (x_values - xqd_arr[t_i]) ** 2\n",
    "\tH = H_kinetic + sp.diags(V, 0, format='csc')\n",
    "\n",
    "\tA = I + 1j * dt / (2 * hbar) * H\n",
    "\tB = I - 1j * dt / (2 * hbar) * H\n",
    "\n",
    "\tpsi = spla.spsolve(A, B @ psi)\n",
    "\n",
    "\tnorm = np.sqrt(np.sum(np.abs(psi) ** 2) * dx)\n",
    "\n",
    "\tif norm > 0:\n",
    "\t\tpsi /= norm\n",
    "\telse:\n",
    "\t\tprint(f\"Zero norm at step {t_i}\")\n",
    "\t\tbreak\n",
    "\n",
    "\tif t_i % skip == 0:\n",
    "\t\tpsi_real_analytical[:, t_i // skip] = np.real(psi[::skip])\n",
    "\t\tpsi_img_analytical[:, t_i // skip] = np.imag(psi[::skip])"
   ]
  },
  {
   "cell_type": "code",
   "execution_count": null,
   "id": "3c6b05c8",
   "metadata": {},
   "outputs": [],
   "source": [
    "plt.figure(figsize=(8, 6), dpi=200)\n",
    "psi_sq = psi_real_analytical ** 2 + psi_img_analytical ** 2\n",
    "\n",
    "plt.pcolormesh(x_values[::skip], t_values[::skip], psi_sq.transpose(), shading=\"auto\")\n",
    "plt.colorbar(label='|psi(x,t)|^2')\n",
    "plt.xlabel('x')\n",
    "plt.ylabel('t')\n",
    "plt.title(f'Numerical |psi|^2 --- vQD = {vQD} --- dt = {dt}')\n",
    "plt.show()"
   ]
  },
  {
   "cell_type": "code",
   "execution_count": null,
   "id": "48bb855c",
   "metadata": {},
   "outputs": [],
   "source": [
    "# from scipy.integrate import simpson\n",
    "# from scipy import special\n",
    "\n",
    "# psi_pinn = psi_real_analytical + 1j * psi_img_analytical\n",
    "\n",
    "# def quantum_center(t):\n",
    "#     if t < t1:\n",
    "#         return x0\n",
    "#     elif t < t1 + (x1 - x0) / vQD:\n",
    "#         return x0 + vQD * (t - t1)\n",
    "#     else:\n",
    "#         return x1\n",
    "    \n",
    "# def psi_x_n(x, t, n):\n",
    "#     A = 1 / np.sqrt((2 ** n) * special.factorial(n))\n",
    "#     B = ((m * omega) / (np.pi * hbar)) ** (1/4)\n",
    "#     C = np.exp((-m * omega * (x - quantum_center(t)) ** 2) / (2 * hbar))\n",
    "#     D = special.eval_hermite(n, np.sqrt((m * omega) / hbar) * (x - quantum_center(t)))\n",
    "#     return A * B * C * D\n",
    "\n",
    "# def psi_x_t_n(x, t, n):\n",
    "#     A = psi_x_n(x, t, n)\n",
    "#     En = (n + (1/2)) * hbar * omega\n",
    "#     B = np.exp(-(1j * En * t) / hbar)\n",
    "#     return A * B\n",
    "\n",
    "# lambda0, lambda1 = [], []\n",
    "# lambda2, lambda3 = [], []\n",
    "# lambda4, lambda5 = [], []\n",
    "\n",
    "# for i, t in enumerate(t_values):\n",
    "#     psi = psi_pinn[:, i]\n",
    "    \n",
    "#     psi0_t = psi_x_t_n(x_values, t, 0)\n",
    "#     psi1_t = psi_x_t_n(x_values, t, 1)\n",
    "#     psi2_t = psi_x_t_n(x_values, t, 2)\n",
    "#     psi3_t = psi_x_t_n(x_values, t, 3)\n",
    "#     psi4_t = psi_x_t_n(x_values, t, 4)\n",
    "#     psi5_t = psi_x_t_n(x_values, t, 5)\n",
    "    \n",
    "#     lambda0_i = simpson(psi * np.conj(psi0_t), x=x_values)\n",
    "#     lambda1_i = simpson(psi * np.conj(psi1_t), x=x_values)\n",
    "#     lambda2_i = simpson(psi * np.conj(psi2_t), x=x_values)\n",
    "#     lambda3_i = simpson(psi * np.conj(psi3_t), x=x_values)\n",
    "#     lambda4_i = simpson(psi * np.conj(psi4_t), x=x_values)\n",
    "#     lambda5_i = simpson(psi * np.conj(psi5_t), x=x_values)\n",
    "    \n",
    "#     lambda0.append(np.abs(lambda0_i) ** 2)\n",
    "#     lambda1.append(np.abs(lambda1_i) ** 2)\n",
    "#     lambda2.append(np.abs(lambda2_i) ** 2)\n",
    "#     lambda3.append(np.abs(lambda3_i) ** 2)\n",
    "#     lambda4.append(np.abs(lambda4_i) ** 2)\n",
    "#     lambda5.append(np.abs(lambda5_i) ** 2)\n",
    "\n",
    "# plt.figure(figsize=(8,5), dpi=200)\n",
    "# plt.plot(t_values, lambda0, label='|lambda0(t)| (ground state)')\n",
    "# plt.plot(t_values, lambda1, label='|lambda1(t)| (first excited)')\n",
    "# plt.plot(t_values, lambda2, label='|lambda2(t)| (second excited)')\n",
    "# plt.plot(t_values, lambda3, label='|lambda3(t)| (third excited)')\n",
    "# plt.plot(t_values, lambda4, label='|lambda4(t)| (forth excited)')\n",
    "# plt.plot(t_values, lambda5, label='|lambda5(t)| (fifth excited)')\n",
    "# plt.xlabel(\"Time (ps)\")\n",
    "# plt.ylabel(\"Probability weight\")\n",
    "# plt.title(\"Time-dependent weights of ground and first excited states\")\n",
    "# plt.legend()\n",
    "# plt.grid(True)\n",
    "# plt.show()"
   ]
  }
 ],
 "metadata": {
  "kernelspec": {
   "display_name": "Intern (HPC)",
   "language": "python",
   "name": "intern"
  },
  "language_info": {
   "codemirror_mode": {
    "name": "ipython",
    "version": 3
   },
   "file_extension": ".py",
   "mimetype": "text/x-python",
   "name": "python",
   "nbconvert_exporter": "python",
   "pygments_lexer": "ipython3",
   "version": "3.10.16"
  }
 },
 "nbformat": 4,
 "nbformat_minor": 5
}
