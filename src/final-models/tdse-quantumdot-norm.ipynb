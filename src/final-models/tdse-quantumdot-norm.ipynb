{
 "cells": [
  {
   "cell_type": "code",
   "execution_count": null,
   "metadata": {
    "execution": {
     "iopub.execute_input": "2025-03-24T05:18:49.598926Z",
     "iopub.status.busy": "2025-03-24T05:18:49.598714Z",
     "iopub.status.idle": "2025-03-24T05:18:52.859472Z",
     "shell.execute_reply": "2025-03-24T05:18:52.858556Z",
     "shell.execute_reply.started": "2025-03-24T05:18:49.598905Z"
    },
    "trusted": true
   },
   "outputs": [],
   "source": [
    "import torch\n",
    "import torch.nn as nn\n",
    "import numpy as np\n",
    "import matplotlib.pyplot as plt"
   ]
  },
  {
   "cell_type": "code",
   "execution_count": null,
   "metadata": {
    "execution": {
     "iopub.execute_input": "2025-03-24T05:18:52.860806Z",
     "iopub.status.busy": "2025-03-24T05:18:52.860410Z",
     "iopub.status.idle": "2025-03-24T05:18:52.878366Z",
     "shell.execute_reply": "2025-03-24T05:18:52.877557Z",
     "shell.execute_reply.started": "2025-03-24T05:18:52.860753Z"
    },
    "trusted": true
   },
   "outputs": [],
   "source": [
    "from scipy.constants import pi, speed_of_light, elementary_charge, electron_mass, hbar\n",
    "\n",
    "me_SI = electron_mass\n",
    "hbar_SI = hbar   \n",
    "e_SI = elementary_charge\n",
    "c_SI = speed_of_light\n",
    "\n",
    "meV = e_SI * 1e-3\n",
    "nm = 1e-9\n",
    "ps = 1e-12\n",
    "\n",
    "c = c_SI * ps / nm\n",
    "hbar_meV_ps = hbar_SI / (meV * ps)\n",
    "me = me_SI * c_SI**2 / meV / c**2\n",
    "\n",
    "hbar = hbar_meV_ps\n",
    "m = me\n",
    "omega = 2 / hbar\n",
    "vQD = 15\n",
    "\n",
    "x0 = 0\n",
    "x1 = 75\n",
    "t0 = 0\n",
    "t1 = 2\n",
    "t2 = t1 + (x1 - x0) / vQD\n",
    "\n",
    "x_min = -75\n",
    "x_max = 150\n",
    "t_min = 0\n",
    "t_max = 20"
   ]
  },
  {
   "cell_type": "code",
   "execution_count": null,
   "metadata": {
    "execution": {
     "iopub.execute_input": "2025-03-24T05:18:52.879356Z",
     "iopub.status.busy": "2025-03-24T05:18:52.879084Z",
     "iopub.status.idle": "2025-03-24T05:18:52.954273Z",
     "shell.execute_reply": "2025-03-24T05:18:52.953387Z",
     "shell.execute_reply.started": "2025-03-24T05:18:52.879319Z"
    },
    "trusted": true
   },
   "outputs": [],
   "source": [
    "if torch.backends.mps.is_available():\n",
    "    device = torch.device(\"mps\")\n",
    "    print(\"Using MPS backend for Apple GPU acceleration!\")\n",
    "elif torch.cuda.is_available():\n",
    "    device = torch.device(\"cuda\")\n",
    "    print(\"Using cuda\")\n",
    "else:\n",
    "    device = torch.device(\"cpu\")\n",
    "    print(\"Using CPU instead.\")"
   ]
  },
  {
   "cell_type": "markdown",
   "metadata": {},
   "source": [
    "# PINN"
   ]
  },
  {
   "cell_type": "code",
   "execution_count": null,
   "metadata": {
    "execution": {
     "iopub.execute_input": "2025-03-24T05:18:52.956180Z",
     "iopub.status.busy": "2025-03-24T05:18:52.955960Z",
     "iopub.status.idle": "2025-03-24T05:18:52.970915Z",
     "shell.execute_reply": "2025-03-24T05:18:52.970122Z",
     "shell.execute_reply.started": "2025-03-24T05:18:52.956163Z"
    },
    "trusted": true
   },
   "outputs": [],
   "source": [
    "class PINN(nn.Module):\n",
    "    def __init__(self, layers, t_min, t_max):\n",
    "        super(PINN, self).__init__()\n",
    "        self.hidden_layers = nn.ModuleList()\n",
    "        \n",
    "        for units in layers[1:-1]:\n",
    "            self.hidden_layers.append(nn.Linear(in_features=layers[0], out_features=units))\n",
    "            layers[0] = units\n",
    "        \n",
    "        self.output_layer = nn.Linear(layers[-2], layers[-1])\n",
    "\n",
    "        self.n_collocation = 5000\n",
    "        self.n_initial = 500\n",
    "        self.n_boundary = 500\n",
    "        self.n_norm = 1000\n",
    "\n",
    "        self.t_min = t_min\n",
    "        self.t_max = t_max\n",
    "    \n",
    "    def forward(self, inputs):\n",
    "        x, t = inputs\n",
    "        X = torch.stack((x, t), dim=1)\n",
    "        activation_1 = nn.Tanh()\n",
    "        activation_2 = nn.SiLU()\n",
    "        i = 1\n",
    "    \n",
    "        for layer in self.hidden_layers:\n",
    "            X = layer(X)\n",
    "            X = activation_1(X) if i < 2 else activation_2(X)\n",
    "            i += 1\n",
    "    \n",
    "        output = self.output_layer(X)\n",
    "        psi_real = output[:, 0]\n",
    "        psi_img = output[:, 1]\n",
    "        \n",
    "        return psi_real, psi_img\n",
    "\n",
    "    def generator(self, T_min, T_max):\n",
    "        t_collocation = np.random.uniform(T_min, T_max, self.n_collocation)\n",
    "        x_qd_collocation = np.where(t_collocation < t1, x0, np.where(t_collocation < t1 + (x1 - x0) / vQD, x0 + vQD * (t_collocation - t1), x1))\n",
    "        x_collocation = np.random.normal(loc=x_qd_collocation, scale=25.0, size=self.n_collocation)\n",
    "    \n",
    "        x_c = np.where(T_min < t1, x0, np.where(T_min < t1 + (x1 - x0) / vQD, x0 + vQD * (T_min - t1), x1))\n",
    "        x_initial = np.random.normal(loc=x_c, scale=25.0, size=self.n_initial)\n",
    "        t_initial = np.full(self.n_initial, T_min)\n",
    "        \n",
    "        x_boundary = np.concatenate([np.full(self.n_boundary // 2, x_min), np.full(self.n_boundary // 2, x_max)])\n",
    "        t_boundary = np.random.uniform(T_min, T_max, self.n_boundary)\n",
    "        \n",
    "        x_norm = np.linspace(x_min, x_max, self.n_norm)\n",
    "        \n",
    "        x_collocation_torch = torch.from_numpy(x_collocation).float().to(device)\n",
    "        t_collocation_torch = torch.from_numpy(t_collocation).float().to(device)\n",
    "        \n",
    "        x_initial_torch  = torch.from_numpy(x_initial).float().to(device)\n",
    "        t_initial_torch  = torch.from_numpy(t_initial).float().to(device)\n",
    "        \n",
    "        x_boundary_torch = torch.from_numpy(x_boundary).float().to(device)\n",
    "        t_boundary_torch = torch.from_numpy(t_boundary).float().to(device)\n",
    "        \n",
    "        x_norm_torch = torch.from_numpy(x_norm).float().to(device).repeat(20)\n",
    "        t_norm_torch = torch.arange(1, 21, device=device).float().repeat_interleave(self.n_norm)\n",
    "    \n",
    "        return x_collocation_torch, t_collocation_torch, x_initial_torch, t_initial_torch, x_boundary_torch, t_boundary_torch, x_norm_torch, t_norm_torch\n",
    "\n",
    "    def loss_function(self, initial_condition, x_collocation_torch, t_collocation_torch, x_initial_torch, t_initial_torch, x_boundary_torch, t_boundary_torch, x_norm_torch, t_norm_torch):\n",
    "        #pde loss\n",
    "        x_collocation_torch = x_collocation_torch.clone().requires_grad_(True)\n",
    "        t_collocation_torch = t_collocation_torch.clone().requires_grad_(True)\n",
    "        \n",
    "        u, v = self((x_collocation_torch, t_collocation_torch))\n",
    "        \n",
    "        du_dt = torch.autograd.grad(u, t_collocation_torch, grad_outputs=torch.ones_like(u), create_graph=True)[0]\n",
    "        du_dx = torch.autograd.grad(u, x_collocation_torch, grad_outputs=torch.ones_like(u), create_graph=True)[0]\n",
    "        d2u_dx2 = torch.autograd.grad(du_dx, x_collocation_torch, grad_outputs=torch.ones_like(du_dx), create_graph=True)[0]\n",
    "        \n",
    "        dv_dt = torch.autograd.grad(v, t_collocation_torch, grad_outputs=torch.ones_like(v), create_graph=True)[0]\n",
    "        dv_dx = torch.autograd.grad(v, x_collocation_torch, grad_outputs=torch.ones_like(v), create_graph=True)[0]\n",
    "        d2v_dx2 = torch.autograd.grad(dv_dx, x_collocation_torch, grad_outputs=torch.ones_like(dv_dx), create_graph=True)[0]\n",
    "        \n",
    "        xqd_arr = torch.where(t_collocation_torch < t1, x0, torch.where(t_collocation_torch < t1 + (x1 - x0) / vQD, x0 + vQD * (t_collocation_torch - t1), x1))\n",
    "        \n",
    "        real = -hbar * dv_dt + ((hbar ** 2) / (2 * m)) * d2u_dx2 - 0.5 * m * (omega ** 2) * ((x_collocation_torch - xqd_arr) ** 2) * u\n",
    "        img = hbar * du_dt + ((hbar ** 2) / (2 * m)) * d2v_dx2 - 0.5 * m * (omega ** 2) * ((x_collocation_torch - xqd_arr) ** 2) * v\n",
    "        \n",
    "        physics_loss = torch.mean(real ** 2 + img ** 2)\n",
    "        \n",
    "        \n",
    "        \n",
    "        \n",
    "        #initial condition loss\n",
    "        u_i, v_i = self((x_initial_torch, t_initial_torch))\n",
    "        \n",
    "        psi_initial_real, psi_initial_img = initial_condition(x_initial_torch, t_initial_torch)\n",
    "        initial_condition_loss = torch.mean((u_i - psi_initial_real) ** 2) + torch.mean((v_i - psi_initial_img) ** 2)\n",
    "        \n",
    "        \n",
    "        \n",
    "        \n",
    "        #boundary condition loss\n",
    "        u_b, v_b = self((x_boundary_torch, t_boundary_torch))\n",
    "        boundary_condition_loss = torch.mean(u_b ** 2) + torch.mean(v_b ** 2)\n",
    "        \n",
    "        \n",
    "        \n",
    "        \n",
    "        #normalization loss \n",
    "        u_n, v_n = self((x_norm_torch, t_norm_torch))\n",
    "        psi_sq = u_n ** 2 + v_n ** 2\n",
    "        psi_sq = psi_sq.view(20, self.n_norm)\n",
    "        \n",
    "        integrals = psi_sq.mean(dim=1) * (x_max - x_min)\n",
    "        normalization_loss = torch.mean((integrals - 1.0) ** 2)\n",
    "        \n",
    "        return physics_loss, initial_condition_loss, boundary_condition_loss, normalization_loss\n",
    "\n",
    "    def train_model(self, optimizer, scheduler, initial_condition, epochs):\n",
    "        history = []\n",
    "        \n",
    "        for epoch in range(1, epochs+1):\n",
    "            optimizer.zero_grad()\n",
    "            \n",
    "            physics_loss, initial_condition_loss, boundary_condition_loss, normalization_loss = self.loss_function(initial_condition, *self.generator(self.t_min, self.t_max))\n",
    "            total_loss = 10 * physics_loss + initial_condition_loss + boundary_condition_loss + normalization_loss\n",
    "            \n",
    "            total_loss.backward()\n",
    "            optimizer.step()\n",
    "            scheduler.step()\n",
    "            \n",
    "            history.append(\n",
    "\t\t\t\t{\n",
    "\t\t\t\t\t\"total_loss\": total_loss.item(),\n",
    "\t\t\t\t\t\"physics_loss\": physics_loss.item(),\n",
    "\t\t\t\t\t\"initial_condition_loss\": initial_condition_loss.item(),\n",
    "\t\t\t\t\t\"boundary_condition_loss\": boundary_condition_loss.item(),\n",
    "\t\t\t\t\t\"normalization_loss\": normalization_loss.item(),\n",
    "\t\t\t\t}\n",
    "\t\t\t)    \n",
    "           \n",
    "            if epoch % 10000 == 0:\n",
    "                print(f\"Epoch {epoch}/{epochs}\")\n",
    "                print(f\"Total loss: {total_loss.item():.4e}\")\n",
    "                print(f\"Physics loss: {physics_loss.item():.4e}\")\n",
    "                print(f\"Initial condition loss: {initial_condition_loss.item():.4e}\")\n",
    "                print(f\"Boundary condition loss: {boundary_condition_loss.item():.4e}\")\n",
    "                print(f\"Normalization loss: {normalization_loss.item():.4e}\")\n",
    "                print(\"-\" * 50)\n",
    "\n",
    "        return history"
   ]
  },
  {
   "cell_type": "code",
   "execution_count": null,
   "metadata": {
    "execution": {
     "iopub.execute_input": "2025-03-24T05:18:52.972439Z",
     "iopub.status.busy": "2025-03-24T05:18:52.972248Z",
     "iopub.status.idle": "2025-03-24T05:18:52.986308Z",
     "shell.execute_reply": "2025-03-24T05:18:52.985408Z",
     "shell.execute_reply.started": "2025-03-24T05:18:52.972423Z"
    },
    "trusted": true
   },
   "outputs": [],
   "source": [
    "layers = [2, 512, 512, 512, 512, 512, 512, 512, 512, 512, 512, 512, 512, 2]"
   ]
  },
  {
   "cell_type": "code",
   "execution_count": null,
   "metadata": {},
   "outputs": [],
   "source": [
    "model = PINN(layers, 0, 20).to(device)"
   ]
  },
  {
   "cell_type": "code",
   "execution_count": null,
   "metadata": {
    "execution": {
     "iopub.execute_input": "2025-03-24T05:18:53.281064Z",
     "iopub.status.busy": "2025-03-24T05:18:53.280741Z",
     "iopub.status.idle": "2025-03-24T05:18:55.179958Z",
     "shell.execute_reply": "2025-03-24T05:18:55.179081Z",
     "shell.execute_reply.started": "2025-03-24T05:18:53.281042Z"
    },
    "trusted": true
   },
   "outputs": [],
   "source": [
    "optimizer = torch.optim.Adam(\n",
    "  model.parameters(),\n",
    "  lr=0.001,\n",
    "  betas=(0.9, 0.9)\n",
    ")\n",
    "\n",
    "decay_rate = 0.9\n",
    "steps = 4000\n",
    "\n",
    "def exp_decay(step):\n",
    "  return decay_rate ** (step / steps)\n",
    "\n",
    "scheduler = torch.optim.lr_scheduler.LambdaLR(optimizer, lr_lambda=exp_decay)\n",
    "\n",
    "epochs = 250000"
   ]
  },
  {
   "cell_type": "code",
   "execution_count": null,
   "metadata": {},
   "outputs": [],
   "source": [
    "def ground_state(x, t):\n",
    "    return (((m * omega) / (np.pi * hbar)) ** 0.25) * torch.exp(((-m * omega) / (2 * hbar)) * (x ** 2)), 0"
   ]
  },
  {
   "cell_type": "code",
   "execution_count": null,
   "metadata": {},
   "outputs": [],
   "source": [
    "history = model.train_model(optimizer, scheduler, ground_state, epochs)"
   ]
  },
  {
   "cell_type": "code",
   "execution_count": null,
   "metadata": {
    "execution": {
     "iopub.execute_input": "2025-03-24T11:29:49.476970Z",
     "iopub.status.busy": "2025-03-24T11:29:49.476654Z",
     "iopub.status.idle": "2025-03-24T11:29:49.496735Z",
     "shell.execute_reply": "2025-03-24T11:29:49.496003Z",
     "shell.execute_reply.started": "2025-03-24T11:29:49.476938Z"
    },
    "trusted": true
   },
   "outputs": [],
   "source": [
    "total_loss_history = [record['total_loss'] for record in history]\n",
    "physics_loss_history = [record['physics_loss'] for record in history]\n",
    "initial_condition_loss_history = [record['initial_condition_loss'] for record in history]\n",
    "boundary_condition_loss_history = [record['boundary_condition_loss'] for record in history]\n",
    "normalization_loss_history = [record['normalization_loss'] for record in history]\n",
    "\n",
    "epochs_range = range(1, epochs + 1)"
   ]
  },
  {
   "cell_type": "code",
   "execution_count": null,
   "metadata": {
    "execution": {
     "iopub.execute_input": "2025-03-24T11:29:50.382099Z",
     "iopub.status.busy": "2025-03-24T11:29:50.381788Z",
     "iopub.status.idle": "2025-03-24T11:29:51.817245Z",
     "shell.execute_reply": "2025-03-24T11:29:51.816361Z",
     "shell.execute_reply.started": "2025-03-24T11:29:50.382074Z"
    },
    "trusted": true
   },
   "outputs": [],
   "source": [
    "fig, axs = plt.subplots(3, 2, figsize=(18, 10))\n",
    "\n",
    "# Total Loss\n",
    "axs[0, 0].plot(epochs_range, total_loss_history, color='blue')\n",
    "axs[0, 0].set_title('Total Loss')\n",
    "axs[0, 0].set_xlabel('Epochs')\n",
    "axs[0, 0].set_ylabel('Loss')\n",
    "axs[0, 0].grid(True)\n",
    "axs[0, 0].set_yscale(\"log\")\n",
    "\n",
    "# Physics Loss\n",
    "axs[0, 1].plot(epochs_range, physics_loss_history, color='orange')\n",
    "axs[0, 1].set_title('Physics Loss')\n",
    "axs[0, 1].set_xlabel('Epochs')\n",
    "axs[0, 1].set_ylabel('Loss')\n",
    "axs[0, 1].grid(True)\n",
    "axs[0, 1].set_yscale(\"log\")\n",
    "\n",
    "# Initial Condition Loss\n",
    "axs[1, 0].plot(epochs_range, initial_condition_loss_history, color='green')\n",
    "axs[1, 0].set_title('Initial Condition Loss')\n",
    "axs[1, 0].set_xlabel('Epochs')\n",
    "axs[1, 0].set_ylabel('Loss')\n",
    "axs[1, 0].grid(True)\n",
    "axs[1, 0].set_yscale(\"log\")\n",
    "\n",
    "# Boundary Condition Loss\n",
    "axs[1, 1].plot(epochs_range, boundary_condition_loss_history, color='red')\n",
    "axs[1, 1].set_title('Boundary Condition Loss')\n",
    "axs[1, 1].set_xlabel('Epochs')\n",
    "axs[1, 1].set_ylabel('Loss')\n",
    "axs[1, 1].grid(True)\n",
    "axs[1, 1].set_yscale(\"log\")\n",
    "\n",
    "# Normalization Loss\n",
    "axs[2, 0].plot(epochs_range, normalization_loss_history, color='green')\n",
    "axs[2, 0].set_title('Normalization Loss')\n",
    "axs[2, 0].set_xlabel('Epochs')\n",
    "axs[2, 0].set_ylabel('Loss')\n",
    "axs[2, 0].grid(True)\n",
    "axs[2, 0].set_yscale(\"log\")\n",
    "\n",
    "plt.tight_layout()\n",
    "plt.show()"
   ]
  },
  {
   "cell_type": "markdown",
   "metadata": {},
   "source": [
    "# Testing"
   ]
  },
  {
   "cell_type": "code",
   "execution_count": null,
   "metadata": {
    "execution": {
     "iopub.execute_input": "2025-03-24T11:29:51.818415Z",
     "iopub.status.busy": "2025-03-24T11:29:51.818128Z",
     "iopub.status.idle": "2025-03-24T11:29:51.822574Z",
     "shell.execute_reply": "2025-03-24T11:29:51.821675Z",
     "shell.execute_reply.started": "2025-03-24T11:29:51.818391Z"
    },
    "trusted": true
   },
   "outputs": [],
   "source": [
    "Nx = 5000\n",
    "Nt = 5000\n",
    "\n",
    "x_values = np.linspace(x_min, x_max, Nx)\n",
    "t_values = np.linspace(t_min, t_max, Nt)"
   ]
  },
  {
   "cell_type": "code",
   "execution_count": null,
   "metadata": {
    "execution": {
     "iopub.execute_input": "2025-03-24T11:29:51.823653Z",
     "iopub.status.busy": "2025-03-24T11:29:51.823377Z",
     "iopub.status.idle": "2025-03-24T11:29:52.001369Z",
     "shell.execute_reply": "2025-03-24T11:29:52.000800Z",
     "shell.execute_reply.started": "2025-03-24T11:29:51.823622Z"
    },
    "trusted": true
   },
   "outputs": [],
   "source": [
    "x_values_torch = torch.from_numpy(x_values).float()\n",
    "t_values_torch = torch.from_numpy(t_values).float()\n",
    "\n",
    "x_grid, t_grid = torch.meshgrid(x_values_torch, t_values_torch, indexing=\"ij\")\n",
    "\n",
    "x_flat = torch.reshape(x_grid, [-1])\n",
    "t_flat = torch.reshape(t_grid, [-1])\n",
    "\n",
    "batch_size = 1000000\n",
    "psi_real_list = []\n",
    "psi_img_list = []\n",
    "\n",
    "model.eval()\n",
    "with torch.no_grad():\n",
    "    for i in range(0, x_flat.shape[0], batch_size):\n",
    "        x_batch = x_flat[i:i+batch_size]\n",
    "        t_batch = t_flat[i:i+batch_size]\n",
    "        psi_real, psi_img = model((x_batch, t_batch))\n",
    "        psi_real_list.append(psi_real.cpu())\n",
    "        psi_img_list.append(psi_img.cpu())\n",
    "\n",
    "psi_real_pinn = torch.cat(psi_real_list).reshape(Nx, Nt).numpy()\n",
    "psi_img_pinn = torch.cat(psi_img_list).reshape(Nx, Nt).numpy()"
   ]
  },
  {
   "cell_type": "code",
   "execution_count": null,
   "metadata": {
    "execution": {
     "iopub.execute_input": "2025-03-24T11:29:52.002217Z",
     "iopub.status.busy": "2025-03-24T11:29:52.001994Z",
     "iopub.status.idle": "2025-03-24T11:29:52.202641Z",
     "shell.execute_reply": "2025-03-24T11:29:52.201900Z",
     "shell.execute_reply.started": "2025-03-24T11:29:52.002198Z"
    },
    "trusted": true
   },
   "outputs": [],
   "source": [
    "plt.figure(figsize=(8, 6), dpi=200)\n",
    "psi_sq = psi_real_pinn ** 2 + psi_img_pinn ** 2\n",
    "\n",
    "plt.pcolormesh(x_values, t_values, psi_sq.transpose(), shading=\"auto\")\n",
    "plt.colorbar(label='|psi(x,t)|^2')\t\n",
    "plt.xlabel('x')\n",
    "plt.ylabel('t')\n",
    "plt.title('PINN |psi|^2')\n",
    "plt.show()"
   ]
  },
  {
   "cell_type": "code",
   "execution_count": null,
   "metadata": {
    "execution": {
     "iopub.execute_input": "2025-03-24T11:29:52.203558Z",
     "iopub.status.busy": "2025-03-24T11:29:52.203338Z",
     "iopub.status.idle": "2025-03-24T11:29:52.803573Z",
     "shell.execute_reply": "2025-03-24T11:29:52.802703Z",
     "shell.execute_reply.started": "2025-03-24T11:29:52.203539Z"
    },
    "trusted": true
   },
   "outputs": [],
   "source": [
    "from scipy.integrate import simpson\n",
    "\n",
    "norms = []\n",
    "\n",
    "for i in range(5000):\n",
    "    psi_sq_i = psi_real_pinn[:, i] ** 2 + psi_img_pinn[:, i] ** 2\n",
    "    normalization = simpson(psi_sq_i, x=x_values)\n",
    "    norms.append(normalization)\n",
    "\n",
    "plt.figure(figsize=(8,5), dpi=200)\n",
    "plt.plot(t_values, norms, '-', label='Normalization')\n",
    "plt.axhline(1.0, color='red', linestyle='--', label='Expected = 1')\n",
    "plt.xlabel('Time (ps)')\n",
    "plt.ylabel('Normalization')\n",
    "plt.title('Wavefunction Normalization Over Time')\n",
    "plt.legend()\n",
    "plt.grid(True)\n",
    "plt.show()"
   ]
  }
 ],
 "metadata": {
  "kaggle": {
   "accelerator": "gpu",
   "dataSources": [
    {
     "datasetId": 6200842,
     "sourceId": 10062026,
     "sourceType": "datasetVersion"
    }
   ],
   "dockerImageVersionId": 30919,
   "isGpuEnabled": true,
   "isInternetEnabled": true,
   "language": "python",
   "sourceType": "notebook"
  },
  "kernelspec": {
   "display_name": "Intern (HPC)",
   "language": "python",
   "name": "intern"
  },
  "language_info": {
   "codemirror_mode": {
    "name": "ipython",
    "version": 3
   },
   "file_extension": ".py",
   "mimetype": "text/x-python",
   "name": "python",
   "nbconvert_exporter": "python",
   "pygments_lexer": "ipython3",
   "version": "3.10.16"
  }
 },
 "nbformat": 4,
 "nbformat_minor": 4
}
