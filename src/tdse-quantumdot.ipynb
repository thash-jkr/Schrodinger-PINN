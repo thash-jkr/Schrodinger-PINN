{
 "cells": [
  {
   "cell_type": "code",
   "execution_count": null,
   "metadata": {
    "execution": {
     "iopub.execute_input": "2025-03-24T05:18:49.598926Z",
     "iopub.status.busy": "2025-03-24T05:18:49.598714Z",
     "iopub.status.idle": "2025-03-24T05:18:52.859472Z",
     "shell.execute_reply": "2025-03-24T05:18:52.858556Z",
     "shell.execute_reply.started": "2025-03-24T05:18:49.598905Z"
    },
    "trusted": true
   },
   "outputs": [],
   "source": [
    "import torch\n",
    "import torch.nn as nn\n",
    "import numpy as np\n",
    "import matplotlib.pyplot as plt\n",
    "import matplotlib.animation as animation"
   ]
  },
  {
   "cell_type": "code",
   "execution_count": null,
   "metadata": {
    "execution": {
     "iopub.execute_input": "2025-03-24T05:18:52.860806Z",
     "iopub.status.busy": "2025-03-24T05:18:52.860410Z",
     "iopub.status.idle": "2025-03-24T05:18:52.878366Z",
     "shell.execute_reply": "2025-03-24T05:18:52.877557Z",
     "shell.execute_reply.started": "2025-03-24T05:18:52.860753Z"
    },
    "trusted": true
   },
   "outputs": [],
   "source": [
    "from scipy.constants import pi, speed_of_light, elementary_charge, electron_mass, hbar\n",
    "\n",
    "me_SI = electron_mass\n",
    "hbar_SI = hbar   \n",
    "e_SI = elementary_charge\n",
    "c_SI = speed_of_light\n",
    "\n",
    "meV = e_SI * 1e-3\n",
    "nm = 1e-9\n",
    "ps = 1e-12\n",
    "\n",
    "c = c_SI * ps / nm\n",
    "hbar_meV_ps = hbar_SI / (meV * ps)\n",
    "me = me_SI * c_SI**2 / meV / c**2\n",
    "\n",
    "hbar = hbar_meV_ps\n",
    "m = me\n",
    "omega = 2 / hbar\n",
    "vQD = 15\n",
    "\n",
    "x0 = 0\n",
    "x1 = 75\n",
    "t0 = 0\n",
    "t1 = 2\n",
    "t2 = t1 + (x1 - x0) / vQD\n",
    "\n",
    "x_min = -75\n",
    "x_max = 150\n",
    "t_min = 0\n",
    "t_max = 20"
   ]
  },
  {
   "cell_type": "code",
   "execution_count": null,
   "metadata": {
    "execution": {
     "iopub.execute_input": "2025-03-24T05:18:52.879356Z",
     "iopub.status.busy": "2025-03-24T05:18:52.879084Z",
     "iopub.status.idle": "2025-03-24T05:18:52.954273Z",
     "shell.execute_reply": "2025-03-24T05:18:52.953387Z",
     "shell.execute_reply.started": "2025-03-24T05:18:52.879319Z"
    },
    "trusted": true
   },
   "outputs": [],
   "source": [
    "if torch.backends.mps.is_available():\n",
    "    device = torch.device(\"mps\")\n",
    "    print(\"Using MPS backend for Apple GPU acceleration!\")\n",
    "elif torch.cuda.is_available():\n",
    "    device = torch.device(\"cuda\")\n",
    "    print(\"Using cuda\")\n",
    "else:\n",
    "    device = torch.device(\"cpu\")\n",
    "    print(\"Using CPU instead.\")"
   ]
  },
  {
   "cell_type": "markdown",
   "metadata": {},
   "source": [
    "# PINN"
   ]
  },
  {
   "cell_type": "code",
   "execution_count": null,
   "metadata": {
    "execution": {
     "iopub.execute_input": "2025-03-24T05:18:52.956180Z",
     "iopub.status.busy": "2025-03-24T05:18:52.955960Z",
     "iopub.status.idle": "2025-03-24T05:18:52.970915Z",
     "shell.execute_reply": "2025-03-24T05:18:52.970122Z",
     "shell.execute_reply.started": "2025-03-24T05:18:52.956163Z"
    },
    "trusted": true
   },
   "outputs": [],
   "source": [
    "class PINN(nn.Module):\n",
    "    def __init__(self, layers):\n",
    "        super(PINN, self).__init__()\n",
    "        self.hidden_layers = nn.ModuleList()\n",
    "        for units in layers[1:-1]:\n",
    "            self.hidden_layers.append(nn.Linear(in_features=layers[0], out_features=units))\n",
    "            layers[0] = units\n",
    "        \n",
    "        self.output_layer = nn.Linear(layers[-2], layers[-1])\n",
    "    \n",
    "    def forward(self, inputs):\n",
    "        x, t = inputs\n",
    "        X = torch.stack((x, t), dim=1)\n",
    "        activation = nn.SiLU()\n",
    "    \n",
    "        for layer in self.hidden_layers:\n",
    "            X = layer(X)\n",
    "            X = activation(X)\n",
    "    \n",
    "        output = self.output_layer(X)\n",
    "        psi_real = output[:, 0]\n",
    "        psi_img = output[:, 1]\n",
    "        \n",
    "        return psi_real, psi_img"
   ]
  },
  {
   "cell_type": "code",
   "execution_count": null,
   "metadata": {
    "execution": {
     "iopub.execute_input": "2025-03-24T05:18:52.972439Z",
     "iopub.status.busy": "2025-03-24T05:18:52.972248Z",
     "iopub.status.idle": "2025-03-24T05:18:52.986308Z",
     "shell.execute_reply": "2025-03-24T05:18:52.985408Z",
     "shell.execute_reply.started": "2025-03-24T05:18:52.972423Z"
    },
    "trusted": true
   },
   "outputs": [],
   "source": [
    "layers = [2, 512, 512, 512, 512, 512, 512, 2]"
   ]
  },
  {
   "cell_type": "code",
   "execution_count": null,
   "metadata": {
    "execution": {
     "iopub.execute_input": "2025-03-24T05:18:52.987455Z",
     "iopub.status.busy": "2025-03-24T05:18:52.987173Z",
     "iopub.status.idle": "2025-03-24T05:18:53.001062Z",
     "shell.execute_reply": "2025-03-24T05:18:53.000305Z",
     "shell.execute_reply.started": "2025-03-24T05:18:52.987426Z"
    },
    "trusted": true
   },
   "outputs": [],
   "source": [
    "n_collocation = 3000\n",
    "n_initial = 1000\n",
    "n_boundary = 1000"
   ]
  },
  {
   "cell_type": "code",
   "execution_count": null,
   "metadata": {
    "execution": {
     "iopub.execute_input": "2025-03-24T05:18:53.002302Z",
     "iopub.status.busy": "2025-03-24T05:18:53.002011Z",
     "iopub.status.idle": "2025-03-24T05:18:53.016992Z",
     "shell.execute_reply": "2025-03-24T05:18:53.016225Z",
     "shell.execute_reply.started": "2025-03-24T05:18:53.002276Z"
    },
    "trusted": true
   },
   "outputs": [],
   "source": [
    "def generator(T):\n",
    "    t_collocation = np.random.uniform(t_min, T, n_collocation)\n",
    "    x_qd_collocation = np.where(t_collocation < t1, x0, np.where(t_collocation < t1 + (x1 - x0) / vQD, x0 + vQD * (t_collocation - t1), x1))\n",
    "    x_collocation = np.random.normal(loc=x_qd_collocation, scale=25.0, size=n_collocation)\n",
    "    \n",
    "    x_initial = np.random.normal(loc=x0, scale=25.0, size=n_initial)\n",
    "    t_initial = np.full(n_initial, t_min)\n",
    "    \n",
    "    x_boundary = np.concatenate([np.full(n_boundary // 2, x_min), np.full(n_boundary // 2, x_max)])\n",
    "    t_boundary = np.random.uniform(t_min, t_max, n_boundary)\n",
    "    \n",
    "    x_collocation_torch = torch.from_numpy(x_collocation).float().to(device)\n",
    "    t_collocation_torch = torch.from_numpy(t_collocation).float().to(device)\n",
    "    \n",
    "    x_initial_torch  = torch.from_numpy(x_initial).float().to(device)\n",
    "    t_initial_torch  = torch.from_numpy(t_initial).float().to(device)\n",
    "    \n",
    "    x_boundary_torch = torch.from_numpy(x_boundary).float().to(device)\n",
    "    t_boundary_torch = torch.from_numpy(t_boundary).float().to(device)\n",
    "\n",
    "    return x_collocation_torch, t_collocation_torch, x_initial_torch, t_initial_torch, x_boundary_torch, t_boundary_torch"
   ]
  },
  {
   "cell_type": "code",
   "execution_count": null,
   "metadata": {
    "execution": {
     "iopub.execute_input": "2025-03-24T05:18:53.018102Z",
     "iopub.status.busy": "2025-03-24T05:18:53.017834Z",
     "iopub.status.idle": "2025-03-24T05:18:53.279744Z",
     "shell.execute_reply": "2025-03-24T05:18:53.278972Z",
     "shell.execute_reply.started": "2025-03-24T05:18:53.018077Z"
    },
    "trusted": true
   },
   "outputs": [],
   "source": [
    "model = PINN(layers)\n",
    "model.to(device)"
   ]
  },
  {
   "cell_type": "code",
   "execution_count": null,
   "metadata": {
    "execution": {
     "iopub.execute_input": "2025-03-24T05:18:53.281064Z",
     "iopub.status.busy": "2025-03-24T05:18:53.280741Z",
     "iopub.status.idle": "2025-03-24T05:18:55.179958Z",
     "shell.execute_reply": "2025-03-24T05:18:55.179081Z",
     "shell.execute_reply.started": "2025-03-24T05:18:53.281042Z"
    },
    "trusted": true
   },
   "outputs": [],
   "source": [
    "optimizer = torch.optim.Adam(\n",
    "  model.parameters(),\n",
    "  lr=0.001,\n",
    "  betas=(0.9, 0.9)\n",
    ")\n",
    "\n",
    "decay_rate = 0.9\n",
    "steps = 2000\n",
    "\n",
    "def exp_decay(step):\n",
    "  return decay_rate ** (step / steps)\n",
    "\n",
    "scheduler = torch.optim.lr_scheduler.LambdaLR(optimizer, lr_lambda=exp_decay)\n",
    "# scheduler = torch.optim.lr_scheduler.CosineAnnealingLR(optimizer, T_max=100000)"
   ]
  },
  {
   "cell_type": "code",
   "execution_count": null,
   "metadata": {
    "execution": {
     "iopub.execute_input": "2025-03-24T05:18:55.181053Z",
     "iopub.status.busy": "2025-03-24T05:18:55.180755Z",
     "iopub.status.idle": "2025-03-24T05:18:55.189281Z",
     "shell.execute_reply": "2025-03-24T05:18:55.188350Z",
     "shell.execute_reply.started": "2025-03-24T05:18:55.181033Z"
    },
    "trusted": true
   },
   "outputs": [],
   "source": [
    "def loss_function(x_collocation_torch, t_collocation_torch, x_initial_torch, t_initial_torch, x_boundary_torch, t_boundary_torch):\n",
    "    #pde loss\n",
    "    x_collocation_torch = x_collocation_torch.clone().requires_grad_(True)\n",
    "    t_collocation_torch = t_collocation_torch.clone().requires_grad_(True)\n",
    "    \n",
    "    u, v = model((x_collocation_torch, t_collocation_torch))\n",
    "    \n",
    "    du_dt = torch.autograd.grad(u, t_collocation_torch, grad_outputs=torch.ones_like(u), create_graph=True)[0]\n",
    "    du_dx = torch.autograd.grad(u, x_collocation_torch, grad_outputs=torch.ones_like(u), create_graph=True)[0]\n",
    "    d2u_dx2 = torch.autograd.grad(du_dx, x_collocation_torch, grad_outputs=torch.ones_like(du_dx), create_graph=True)[0]\n",
    "    \n",
    "    dv_dt = torch.autograd.grad(v, t_collocation_torch, grad_outputs=torch.ones_like(v), create_graph=True)[0]\n",
    "    dv_dx = torch.autograd.grad(v, x_collocation_torch, grad_outputs=torch.ones_like(v), create_graph=True)[0]\n",
    "    d2v_dx2 = torch.autograd.grad(dv_dx, x_collocation_torch, grad_outputs=torch.ones_like(dv_dx), create_graph=True)[0]\n",
    "    \n",
    "    xqd_arr = torch.where(t_collocation_torch < t1, x0, torch.where(t_collocation_torch < t1 + (x1 - x0) / vQD, x0 + vQD * (t_collocation_torch - t1), x1))\n",
    "    \n",
    "    real = -hbar * dv_dt + ((hbar ** 2) / (2 * m)) * d2u_dx2 - 0.5 * m * (omega ** 2) * ((x_collocation_torch - xqd_arr) ** 2) * u\n",
    "    img = hbar * du_dt + ((hbar ** 2) / (2 * m)) * d2v_dx2 - 0.5 * m * (omega ** 2) * ((x_collocation_torch - xqd_arr) ** 2) * v\n",
    "    \n",
    "    physics_loss = torch.mean(real ** 2 + img ** 2)\n",
    "    \n",
    "    \n",
    "    \n",
    "    \n",
    "    #initial condition loss\n",
    "    u_i, v_i = model((x_initial_torch, t_initial_torch))\n",
    "    \n",
    "    psi_initial_actual = (((m * omega) / (np.pi * hbar)) ** 0.25) * torch.exp(((-m * omega) / (2 * hbar)) * (x_initial_torch ** 2))\n",
    "    initial_condition_loss = torch.mean((u_i - psi_initial_actual) ** 2) + torch.mean((v_i - 0) ** 2)\n",
    "    \n",
    "    \n",
    "    \n",
    "    \n",
    "    #boundary condition loss\n",
    "    u_b, v_b = model((x_boundary_torch, t_boundary_torch))\n",
    "    boundary_condition_loss = torch.mean(u_b ** 2) + torch.mean(v_b ** 2)\n",
    "    \n",
    "    return physics_loss, initial_condition_loss, boundary_condition_loss"
   ]
  },
  {
   "cell_type": "code",
   "execution_count": null,
   "metadata": {
    "execution": {
     "iopub.execute_input": "2025-03-24T05:18:55.190588Z",
     "iopub.status.busy": "2025-03-24T05:18:55.190281Z",
     "iopub.status.idle": "2025-03-24T11:29:49.475606Z",
     "shell.execute_reply": "2025-03-24T11:29:49.474694Z",
     "shell.execute_reply.started": "2025-03-24T05:18:55.190555Z"
    },
    "trusted": true
   },
   "outputs": [],
   "source": [
    "epochs = 100000\n",
    "history = []\n",
    "t_in = t_max\n",
    "\n",
    "for epoch in range(1, epochs+1):\n",
    "    optimizer.zero_grad()\n",
    "\n",
    "    # if epoch == 20000:\n",
    "    #     t_in = t2\n",
    "\n",
    "    # if epoch == 40000:\n",
    "    #     t_in = t_max\n",
    "    \n",
    "    physics_loss, initial_condition_loss, boundary_condition_loss = loss_function(*generator(t_in))\n",
    "    total_loss = 10 * physics_loss + initial_condition_loss + boundary_condition_loss\n",
    "    \n",
    "    total_loss.backward()\n",
    "    # torch.nn.utils.clip_grad_norm_(model.parameters(), max_norm=1.0)\n",
    "    optimizer.step()\n",
    "    scheduler.step()\n",
    "\n",
    "    history.append({\"total_loss\": total_loss.item() ,\"physics_loss\": physics_loss.item(), \"initial_condition_loss\": initial_condition_loss.item(), \"boundary_condition_loss\": boundary_condition_loss.item()})\n",
    "    \n",
    "    if epoch % 1 == 0:\n",
    "        print(f\"Epoch {epoch}/{epochs}\")\n",
    "        print(f\"Total loss: {total_loss.item():.4e}\")\n",
    "        print(f\"Physics loss: {physics_loss.item():.4e}\")\n",
    "        print(f\"Initial condition loss: {initial_condition_loss.item():.4e}\")\n",
    "        print(f\"Boundary condition loss: {boundary_condition_loss.item():.4e}\")\n",
    "        print(\"-\" * 50)\n",
    "    "
   ]
  },
  {
   "cell_type": "code",
   "execution_count": null,
   "metadata": {
    "execution": {
     "iopub.execute_input": "2025-03-24T11:29:49.476970Z",
     "iopub.status.busy": "2025-03-24T11:29:49.476654Z",
     "iopub.status.idle": "2025-03-24T11:29:49.496735Z",
     "shell.execute_reply": "2025-03-24T11:29:49.496003Z",
     "shell.execute_reply.started": "2025-03-24T11:29:49.476938Z"
    },
    "trusted": true
   },
   "outputs": [],
   "source": [
    "total_loss_history = [record['total_loss'] for record in history]\n",
    "physics_loss_history = [record['physics_loss'] for record in history]\n",
    "initial_condition_loss_history = [record['initial_condition_loss'] for record in history]\n",
    "boundary_condition_loss_history = [record['boundary_condition_loss'] for record in history]\n",
    "\n",
    "epochs_range = range(1, epochs + 1)"
   ]
  },
  {
   "cell_type": "code",
   "execution_count": null,
   "metadata": {
    "execution": {
     "iopub.execute_input": "2025-03-24T11:29:49.499387Z",
     "iopub.status.busy": "2025-03-24T11:29:49.499158Z",
     "iopub.status.idle": "2025-03-24T11:29:50.380477Z",
     "shell.execute_reply": "2025-03-24T11:29:50.379606Z",
     "shell.execute_reply.started": "2025-03-24T11:29:49.499367Z"
    },
    "trusted": true
   },
   "outputs": [],
   "source": [
    "fig, axs = plt.subplots(2, 2, figsize=(18, 10))\n",
    "\n",
    "# Total Loss\n",
    "axs[0, 0].plot(epochs_range, total_loss_history, color='blue')\n",
    "axs[0, 0].set_title('Total Loss')\n",
    "axs[0, 0].set_xlabel('Epochs')\n",
    "axs[0, 0].set_ylabel('Loss')\n",
    "axs[0, 0].grid(True)\n",
    "\n",
    "# Physics Loss\n",
    "axs[0, 1].plot(epochs_range, physics_loss_history, color='orange')\n",
    "axs[0, 1].set_title('Physics Loss')\n",
    "axs[0, 1].set_xlabel('Epochs')\n",
    "axs[0, 1].set_ylabel('Loss')\n",
    "axs[0, 1].grid(True)\n",
    "\n",
    "# Initial Condition Loss\n",
    "axs[1, 0].plot(epochs_range, initial_condition_loss_history, color='green')\n",
    "axs[1, 0].set_title('Initial Condition Loss')\n",
    "axs[1, 0].set_xlabel('Epochs')\n",
    "axs[1, 0].set_ylabel('Loss')\n",
    "axs[1, 0].grid(True)\n",
    "\n",
    "# Boundary Condition Loss\n",
    "axs[1, 1].plot(epochs_range, boundary_condition_loss_history, color='red')\n",
    "axs[1, 1].set_title('Boundary Condition Loss')\n",
    "axs[1, 1].set_xlabel('Epochs')\n",
    "axs[1, 1].set_ylabel('Loss')\n",
    "axs[1, 1].grid(True)\n",
    "\n",
    "plt.tight_layout()\n",
    "plt.show()"
   ]
  },
  {
   "cell_type": "code",
   "execution_count": null,
   "metadata": {
    "execution": {
     "iopub.execute_input": "2025-03-24T11:29:50.382099Z",
     "iopub.status.busy": "2025-03-24T11:29:50.381788Z",
     "iopub.status.idle": "2025-03-24T11:29:51.817245Z",
     "shell.execute_reply": "2025-03-24T11:29:51.816361Z",
     "shell.execute_reply.started": "2025-03-24T11:29:50.382074Z"
    },
    "trusted": true
   },
   "outputs": [],
   "source": [
    "fig, axs = plt.subplots(2, 2, figsize=(18, 10))\n",
    "\n",
    "# Total Loss\n",
    "axs[0, 0].plot(epochs_range, total_loss_history, color='blue')\n",
    "axs[0, 0].set_title('Total Loss')\n",
    "axs[0, 0].set_xlabel('Epochs')\n",
    "axs[0, 0].set_ylabel('Loss')\n",
    "axs[0, 0].grid(True)\n",
    "axs[0, 0].set_yscale(\"log\")\n",
    "\n",
    "# Physics Loss\n",
    "axs[0, 1].plot(epochs_range, physics_loss_history, color='orange')\n",
    "axs[0, 1].set_title('Physics Loss')\n",
    "axs[0, 1].set_xlabel('Epochs')\n",
    "axs[0, 1].set_ylabel('Loss')\n",
    "axs[0, 1].grid(True)\n",
    "axs[0, 1].set_yscale(\"log\")\n",
    "\n",
    "# Initial Condition Loss\n",
    "axs[1, 0].plot(epochs_range, initial_condition_loss_history, color='green')\n",
    "axs[1, 0].set_title('Initial Condition Loss')\n",
    "axs[1, 0].set_xlabel('Epochs')\n",
    "axs[1, 0].set_ylabel('Loss')\n",
    "axs[1, 0].grid(True)\n",
    "axs[1, 0].set_yscale(\"log\")\n",
    "\n",
    "# Boundary Condition Loss\n",
    "axs[1, 1].plot(epochs_range, boundary_condition_loss_history, color='red')\n",
    "axs[1, 1].set_title('Boundary Condition Loss')\n",
    "axs[1, 1].set_xlabel('Epochs')\n",
    "axs[1, 1].set_ylabel('Loss')\n",
    "axs[1, 1].grid(True)\n",
    "axs[1, 1].set_yscale(\"log\")\n",
    "\n",
    "plt.tight_layout()\n",
    "plt.show()"
   ]
  },
  {
   "cell_type": "markdown",
   "metadata": {},
   "source": [
    "# Testing"
   ]
  },
  {
   "cell_type": "code",
   "execution_count": 1,
   "metadata": {
    "execution": {
     "iopub.execute_input": "2025-03-24T11:29:51.818415Z",
     "iopub.status.busy": "2025-03-24T11:29:51.818128Z",
     "iopub.status.idle": "2025-03-24T11:29:51.822574Z",
     "shell.execute_reply": "2025-03-24T11:29:51.821675Z",
     "shell.execute_reply.started": "2025-03-24T11:29:51.818391Z"
    },
    "trusted": true
   },
   "outputs": [
    {
     "ename": "NameError",
     "evalue": "name 'np' is not defined",
     "output_type": "error",
     "traceback": [
      "\u001b[0;31m---------------------------------------------------------------------------\u001b[0m",
      "\u001b[0;31mNameError\u001b[0m                                 Traceback (most recent call last)",
      "Cell \u001b[0;32mIn[1], line 4\u001b[0m\n\u001b[1;32m      1\u001b[0m Nx \u001b[38;5;241m=\u001b[39m \u001b[38;5;241m600\u001b[39m\n\u001b[1;32m      2\u001b[0m Nt \u001b[38;5;241m=\u001b[39m \u001b[38;5;241m600\u001b[39m\n\u001b[0;32m----> 4\u001b[0m x_values \u001b[38;5;241m=\u001b[39m \u001b[43mnp\u001b[49m\u001b[38;5;241m.\u001b[39mlinspace(x_min, x_max, Nx)\n\u001b[1;32m      5\u001b[0m t_values \u001b[38;5;241m=\u001b[39m np\u001b[38;5;241m.\u001b[39mlinspace(t_min, t_max, Nt)\n",
      "\u001b[0;31mNameError\u001b[0m: name 'np' is not defined"
     ]
    }
   ],
   "source": [
    "Nx = 600\n",
    "Nt = 600\n",
    "\n",
    "x_values = np.linspace(x_min, x_max, Nx)\n",
    "t_values = np.linspace(t_min, t_max, Nt)"
   ]
  },
  {
   "cell_type": "code",
   "execution_count": null,
   "metadata": {
    "execution": {
     "iopub.execute_input": "2025-03-24T11:29:51.823653Z",
     "iopub.status.busy": "2025-03-24T11:29:51.823377Z",
     "iopub.status.idle": "2025-03-24T11:29:52.001369Z",
     "shell.execute_reply": "2025-03-24T11:29:52.000800Z",
     "shell.execute_reply.started": "2025-03-24T11:29:51.823622Z"
    },
    "trusted": true
   },
   "outputs": [],
   "source": [
    "x_values_torch = torch.from_numpy(x_values).float().to(device)\n",
    "t_values_torch = torch.from_numpy(t_values).float().to(device)\n",
    "\n",
    "x_grid, t_grid = torch.meshgrid(x_values_torch, t_values_torch, indexing=\"ij\")\n",
    "\n",
    "x_flat = torch.reshape(x_grid, [-1])\n",
    "t_flat = torch.reshape(t_grid, [-1])\n",
    "\n",
    "psi_real_pinn, psi_img_pinn = model((x_flat, t_flat))\n",
    "\n",
    "psi_real_pinn = torch.reshape(psi_real_pinn, (Nx, Nt))\n",
    "psi_img_pinn = torch.reshape(psi_img_pinn, (Nx, Nt))\n",
    "\n",
    "psi_real_pinn = psi_real_pinn.detach().cpu().numpy()\n",
    "psi_img_pinn = psi_img_pinn.detach().cpu().numpy()"
   ]
  },
  {
   "cell_type": "code",
   "execution_count": null,
   "metadata": {
    "execution": {
     "iopub.execute_input": "2025-03-24T11:29:52.002217Z",
     "iopub.status.busy": "2025-03-24T11:29:52.001994Z",
     "iopub.status.idle": "2025-03-24T11:29:52.202641Z",
     "shell.execute_reply": "2025-03-24T11:29:52.201900Z",
     "shell.execute_reply.started": "2025-03-24T11:29:52.002198Z"
    },
    "trusted": true
   },
   "outputs": [],
   "source": [
    "time_index = 0\n",
    "time_chosen = t_values[time_index]\n",
    "\n",
    "psi_real_slice_pinn = psi_real_pinn[:, time_index]\n",
    "psi_img_slice_pinn = psi_img_pinn[:, time_index]\n",
    "\n",
    "psi_mag_slice_pinn = np.sqrt(psi_real_slice_pinn**2 + psi_img_slice_pinn**2)\n",
    "\n",
    "plt.figure(figsize=(8,5))\n",
    "plt.plot(x_values, psi_real_slice_pinn, label='Real part')\n",
    "plt.plot(x_values, psi_img_slice_pinn, label='Imag part')\n",
    "plt.plot(x_values, psi_mag_slice_pinn, label='Magnitude')\n",
    "plt.title(f'Wavefunction at t = {time_chosen:.2f} ps')\n",
    "plt.xlabel('x (nm)')\n",
    "plt.ylabel('Wavefunction')\n",
    "plt.legend()\n",
    "plt.grid(True)\n",
    "plt.show()"
   ]
  },
  {
   "cell_type": "code",
   "execution_count": null,
   "metadata": {
    "execution": {
     "iopub.execute_input": "2025-03-24T11:29:52.203558Z",
     "iopub.status.busy": "2025-03-24T11:29:52.203338Z",
     "iopub.status.idle": "2025-03-24T11:29:52.803573Z",
     "shell.execute_reply": "2025-03-24T11:29:52.802703Z",
     "shell.execute_reply.started": "2025-03-24T11:29:52.203539Z"
    },
    "trusted": true
   },
   "outputs": [],
   "source": [
    "plt.figure(figsize=(8, 6))\n",
    "psi_sq = psi_real_pinn ** 2 + psi_img_pinn ** 2\n",
    "\n",
    "plt.pcolormesh(x_values, t_values, psi_sq.transpose(), shading=\"auto\")\n",
    "plt.colorbar(label='|psi(x,t)|^2')\n",
    "plt.xlabel('x')\n",
    "plt.ylabel('t')\n",
    "plt.title('PINN |psi|^2')\n",
    "plt.show()"
   ]
  },
  {
   "cell_type": "code",
   "execution_count": null,
   "metadata": {
    "execution": {
     "iopub.execute_input": "2025-03-24T11:29:52.804749Z",
     "iopub.status.busy": "2025-03-24T11:29:52.804425Z",
     "iopub.status.idle": "2025-03-24T11:29:53.201022Z",
     "shell.execute_reply": "2025-03-24T11:29:53.200253Z",
     "shell.execute_reply.started": "2025-03-24T11:29:52.804718Z"
    },
    "trusted": true
   },
   "outputs": [],
   "source": [
    "from scipy.integrate import simpson\n",
    "\n",
    "norms = []\n",
    "\n",
    "for i in range(600):\n",
    "    psi_sq = psi_real_pinn[:, i] ** 2 + psi_img_pinn[:, i] ** 2\n",
    "    normalization = simpson(psi_sq, x=x_values)\n",
    "    norms.append(normalization)\n",
    "\n",
    "plt.figure(figsize=(8,5))\n",
    "plt.plot(t_values, norms, '-', label='Normalization')\n",
    "plt.axhline(1.0, color='red', linestyle='--', label='Expected = 1')\n",
    "plt.xlabel('Time (ps)')\n",
    "plt.ylabel('Normalization')\n",
    "plt.title('Wavefunction Normalization Over Time')\n",
    "plt.legend()\n",
    "plt.grid(True)\n",
    "plt.show()"
   ]
  }
 ],
 "metadata": {
  "kaggle": {
   "accelerator": "gpu",
   "dataSources": [
    {
     "datasetId": 6200842,
     "sourceId": 10062026,
     "sourceType": "datasetVersion"
    }
   ],
   "dockerImageVersionId": 30919,
   "isGpuEnabled": true,
   "isInternetEnabled": true,
   "language": "python",
   "sourceType": "notebook"
  },
  "kernelspec": {
   "display_name": "Intern (HPC)",
   "language": "python",
   "name": "intern"
  },
  "language_info": {
   "codemirror_mode": {
    "name": "ipython",
    "version": 3
   },
   "file_extension": ".py",
   "mimetype": "text/x-python",
   "name": "python",
   "nbconvert_exporter": "python",
   "pygments_lexer": "ipython3",
   "version": "3.10.16"
  }
 },
 "nbformat": 4,
 "nbformat_minor": 4
}
