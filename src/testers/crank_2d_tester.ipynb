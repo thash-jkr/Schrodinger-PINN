{
 "cells": [
  {
   "cell_type": "code",
   "execution_count": null,
   "id": "c0c59806",
   "metadata": {},
   "outputs": [],
   "source": [
    "import numpy as np\n",
    "import cupy as cp\n",
    "import cupyx.scipy.sparse as sp\n",
    "import cupyx.scipy.sparse.linalg as spla\n",
    "import matplotlib.pyplot as plt\n",
    "from scipy.constants import pi, speed_of_light, elementary_charge, electron_mass, hbar\n",
    "import plotly.graph_objects as go\n",
    "\n",
    "me_SI = electron_mass\n",
    "hbar_SI = hbar   \n",
    "e_SI = elementary_charge\n",
    "c_SI = speed_of_light\n",
    "\n",
    "meV = e_SI * 1e-3\n",
    "nm = 1e-9                    \n",
    "ps = 1e-12                    \n",
    "\n",
    "c = c_SI * ps / nm           \n",
    "hbar_meV_ps = hbar_SI / (meV * ps)  \n",
    "me = me_SI * c_SI**2 / meV / c**2    \n",
    "\n",
    "hbar = hbar_meV_ps\n",
    "m = me\n",
    "omega = 2 / hbar\n",
    "vQD = 50\n",
    "\n",
    "x_min = -75\n",
    "x_max = 150\n",
    "\n",
    "x0 = 0\n",
    "x1 = 75\n",
    "t0 = 0\n",
    "t1 = 2\n",
    "\n",
    "t_min = 0\n",
    "t_max = t1 + 5"
   ]
  },
  {
   "cell_type": "code",
   "execution_count": null,
   "id": "c5d5cee1",
   "metadata": {},
   "outputs": [],
   "source": [
    "data = np.load(\"../results/analytical/crank_2d.npz\")"
   ]
  },
  {
   "cell_type": "code",
   "execution_count": null,
   "id": "a0510251",
   "metadata": {},
   "outputs": [],
   "source": [
    "real = data[\"real\"]\n",
    "img = data[\"img\"]\n",
    "x_values = data[\"x_values\"]\n",
    "y_values = data[\"y_values\"]\n",
    "t_values = data[\"t_values\"]\t"
   ]
  },
  {
   "cell_type": "code",
   "execution_count": null,
   "id": "87c9979f",
   "metadata": {},
   "outputs": [],
   "source": [
    "skip_x = 5\n",
    "skip_y = 5\n",
    "skip_t = 5\n",
    "\n",
    "x_ds = x_values[::skip_x]\n",
    "y_ds = y_values[::skip_y]\n",
    "t_ds = t_values[::skip_t]\n",
    "\n",
    "X, Y, T = np.meshgrid(x_ds, y_ds, t_ds, indexing='ij')\n",
    "\n",
    "real_ds = real[::skip_x, ::skip_y, ::skip_t]\n",
    "imag_ds = img[::skip_x, ::skip_y, ::skip_t]\n",
    "psi_sq_ds = real_ds**2 + imag_ds**2\n",
    "\n",
    "fig = go.Figure(data=go.Volume(\n",
    "\tx=X.flatten(),\n",
    "    y=Y.flatten(),\n",
    "    z=T.flatten(),\n",
    "    value=psi_sq_ds.flatten(),\n",
    "    isomin=0,\n",
    "    isomax=np.max(psi_sq_ds),\n",
    "    opacity=0.1,\n",
    "    surface_count=25,\n",
    "    colorscale='Viridis',\n",
    "))\n",
    "\n",
    "fig.update_layout(\n",
    "    scene=dict(\n",
    "        xaxis_title='x',\n",
    "        yaxis_title='y',\n",
    "        zaxis_title='t',\n",
    "    ),\n",
    "    title='3D Volume Plot of |ψ(x, y, t)|²',\n",
    "    margin=dict(l=0, r=0, b=0, t=50),\n",
    "    width=1024,\n",
    "    height=1024\n",
    ")\n",
    "\n",
    "fig.show()"
   ]
  },
  {
   "cell_type": "code",
   "execution_count": null,
   "id": "6752da5c",
   "metadata": {},
   "outputs": [],
   "source": [
    "from scipy.integrate import simpson\n",
    "\n",
    "norms = []\n",
    "\n",
    "for i in range(1000):\n",
    "\tpsi_sq_i = real[:, :, i] ** 2 + img[:, :, i] ** 2\n",
    "\tnorms_x = []\n",
    "\n",
    "\tfor j in range(1000):\n",
    "\t\tnorm_x = simpson(psi_sq_i[:, j], x=x_values)\n",
    "\t\tnorms_x.append(norm_x)\n",
    "\n",
    "\tnormalization = simpson(norms_x, x=y_values)\n",
    "\tnorms.append(np.round(normalization, 5))\n",
    "  \n",
    "fig, ax = plt.subplots(figsize=(8, 5), dpi=200)\n",
    "\n",
    "ax.plot(t_values, norms, '-', label='Normalization')\n",
    "ax.axhline(1.0, color='red', linestyle='--', label='Expected = 1')\n",
    "\n",
    "ax.yaxis.get_major_formatter().set_useOffset(False)\n",
    "\n",
    "ax.set_xlabel('Time (ps)')\n",
    "ax.set_ylabel('Normalization')\n",
    "ax.set_title('Wavefunction Normalization Over Time')\n",
    "ax.legend()\n",
    "ax.grid(True)\n",
    "\n",
    "plt.tight_layout()\n",
    "plt.show()"
   ]
  },
  {
   "cell_type": "code",
   "execution_count": null,
   "id": "4cb35d9b",
   "metadata": {},
   "outputs": [],
   "source": [
    "# from scipy import special\n",
    "\n",
    "# psi_pinn = real + 1j * img\n",
    "\n",
    "# def quantum_center(t):\n",
    "#     if t < t1:\n",
    "#         return x0\n",
    "#     elif t < t1 + (x1 - x0) / vQD:\n",
    "#         return x0 + vQD * (t - t1)\n",
    "#     else:\n",
    "#         return x1\n",
    "    \n",
    "# def psi_x_n(x, t, n):\n",
    "#     A = 1 / np.sqrt((2 ** n) * special.factorial(n))\n",
    "#     B = ((m * omega) / (np.pi * hbar)) ** (1/4)\n",
    "#     C = np.exp((-m * omega * (x - quantum_center(t)) ** 2) / (2 * hbar))\n",
    "#     D = special.eval_hermite(n, np.sqrt((m * omega) / hbar) * (x - quantum_center(t)))\n",
    "#     return A * B * C * D\n",
    "\n",
    "# def psi_x_t_n(x, t, n):\n",
    "#     A = psi_x_n(x, t, n)\n",
    "#     En = (n + (1/2)) * hbar * omega\n",
    "#     B = np.exp(-(1j * En * t) / hbar)\n",
    "#     return A * B\n",
    "\n",
    "# lambda0, lambda1 = [], []\n",
    "# lambda2, lambda3 = [], []\n",
    "# lambda4, lambda5 = [], []\n",
    "\n",
    "# for i, t in enumerate(t_values):\n",
    "#     psi = psi_pinn[:, i]\n",
    "    \n",
    "#     psi0_t = psi_x_t_n(x_values, t, 0)\n",
    "#     psi1_t = psi_x_t_n(x_values, t, 1)\n",
    "#     psi2_t = psi_x_t_n(x_values, t, 2)\n",
    "#     psi3_t = psi_x_t_n(x_values, t, 3)\n",
    "#     psi4_t = psi_x_t_n(x_values, t, 4)\n",
    "#     psi5_t = psi_x_t_n(x_values, t, 5)\n",
    "    \n",
    "#     lambda0_i = simpson(psi * np.conj(psi0_t), x=x_values)\n",
    "#     lambda1_i = simpson(psi * np.conj(psi1_t), x=x_values)\n",
    "#     lambda2_i = simpson(psi * np.conj(psi2_t), x=x_values)\n",
    "#     lambda3_i = simpson(psi * np.conj(psi3_t), x=x_values)\n",
    "#     lambda4_i = simpson(psi * np.conj(psi4_t), x=x_values)\n",
    "#     lambda5_i = simpson(psi * np.conj(psi5_t), x=x_values)\n",
    "    \n",
    "#     lambda0.append(np.abs(lambda0_i) ** 2)\n",
    "#     lambda1.append(np.abs(lambda1_i) ** 2)\n",
    "#     lambda2.append(np.abs(lambda2_i) ** 2)\n",
    "#     lambda3.append(np.abs(lambda3_i) ** 2)\n",
    "#     lambda4.append(np.abs(lambda4_i) ** 2)\n",
    "#     lambda5.append(np.abs(lambda5_i) ** 2)\n",
    "\n",
    "# plt.figure(figsize=(8,5), dpi=200)\n",
    "# plt.plot(t_values, lambda0, label='|lambda0(t)| (ground state)')\n",
    "# plt.plot(t_values, lambda1, label='|lambda1(t)| (first excited)')\n",
    "# plt.plot(t_values, lambda2, label='|lambda2(t)| (second excited)')\n",
    "# plt.plot(t_values, lambda3, label='|lambda3(t)| (third excited)')\n",
    "# plt.plot(t_values, lambda4, label='|lambda4(t)| (forth excited)')\n",
    "# plt.plot(t_values, lambda5, label='|lambda5(t)| (fifth excited)')\n",
    "# plt.xlabel(\"Time (ps)\")\n",
    "# plt.ylabel(\"Probability weight\")\n",
    "# plt.title(\"Time-dependent weights of ground and first excited states\")\n",
    "# plt.legend()\n",
    "# plt.grid(True)\n",
    "# plt.show()\n"
   ]
  },
  {
   "cell_type": "code",
   "execution_count": null,
   "id": "590be46e",
   "metadata": {},
   "outputs": [],
   "source": [
    "# np.savez(\"../results/analytical/crank_movement_vQD20_weights.npz\", \n",
    "#         lambda0_analytical=lambda0,\n",
    "#         lambda1_analytical=lambda1,\n",
    "#         lambda2_analytical=lambda2,\n",
    "#         lambda3_analytical=lambda3,\n",
    "#         lambda4_analytical=lambda4,\n",
    "#         lambda5_analytical=lambda5,\n",
    "#         psi_sq_analytical=psi_sq\n",
    "# \t)"
   ]
  },
  {
   "cell_type": "code",
   "execution_count": null,
   "id": "81338b78",
   "metadata": {},
   "outputs": [],
   "source": [
    "arr = np.arange(2.1, 7, .25)\n",
    "print(len(arr))\n",
    "print(arr)"
   ]
  },
  {
   "cell_type": "code",
   "execution_count": null,
   "id": "973b6265",
   "metadata": {},
   "outputs": [],
   "source": [
    "d3 = np.zeros((5, 5, 5))"
   ]
  },
  {
   "cell_type": "code",
   "execution_count": null,
   "id": "959dea53",
   "metadata": {},
   "outputs": [],
   "source": [
    "d3[1, 1, 1] = 111\n",
    "d3[1, 0, 1] = 101\n",
    "d3[1, 1, 0] = 110"
   ]
  },
  {
   "cell_type": "code",
   "execution_count": null,
   "id": "1d78fbaf",
   "metadata": {},
   "outputs": [],
   "source": [
    "d3"
   ]
  },
  {
   "cell_type": "code",
   "execution_count": null,
   "id": "dbde838f",
   "metadata": {},
   "outputs": [],
   "source": [
    "d3[1, :, 1]"
   ]
  },
  {
   "cell_type": "code",
   "execution_count": null,
   "id": "f917bc51",
   "metadata": {},
   "outputs": [],
   "source": [
    "d3[1, 1, :]"
   ]
  },
  {
   "cell_type": "code",
   "execution_count": null,
   "id": "4dc90ce7",
   "metadata": {},
   "outputs": [],
   "source": [
    "d3[:, :, 1]"
   ]
  }
 ],
 "metadata": {
  "kernelspec": {
   "display_name": "Intern (HPC)",
   "language": "python",
   "name": "intern"
  },
  "language_info": {
   "codemirror_mode": {
    "name": "ipython",
    "version": 3
   },
   "file_extension": ".py",
   "mimetype": "text/x-python",
   "name": "python",
   "nbconvert_exporter": "python",
   "pygments_lexer": "ipython3",
   "version": "3.10.16"
  }
 },
 "nbformat": 4,
 "nbformat_minor": 5
}
